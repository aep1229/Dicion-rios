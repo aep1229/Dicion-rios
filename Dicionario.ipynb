{
 "cells": [
  {
   "cell_type": "markdown",
   "id": "3c7bf3f2",
   "metadata": {},
   "source": [
    "# Dicionários"
   ]
  },
  {
   "cell_type": "code",
   "execution_count": 10,
   "id": "763508db",
   "metadata": {},
   "outputs": [],
   "source": [
    "# Criando um dicionário\n",
    "\n",
    "tabela = {\"Arroz\" : 0.5, \"Batata\" : 0.2, \"Carne\" : 0.1}"
   ]
  },
  {
   "cell_type": "code",
   "execution_count": 11,
   "id": "96500b5e",
   "metadata": {},
   "outputs": [
    {
     "name": "stdout",
     "output_type": "stream",
     "text": [
      "0.5\n"
     ]
    }
   ],
   "source": [
    "# Acessando dados do dicionário\n",
    "\n",
    "print(tabela[\"Arroz\"])"
   ]
  },
  {
   "cell_type": "code",
   "execution_count": 12,
   "id": "5559c040",
   "metadata": {},
   "outputs": [
    {
     "name": "stdout",
     "output_type": "stream",
     "text": [
      "0.2\n"
     ]
    }
   ],
   "source": [
    "print(tabela[\"Batata\"])"
   ]
  },
  {
   "cell_type": "code",
   "execution_count": 13,
   "id": "85e517ec",
   "metadata": {},
   "outputs": [
    {
     "data": {
      "text/plain": [
       "3"
      ]
     },
     "execution_count": 13,
     "metadata": {},
     "output_type": "execute_result"
    }
   ],
   "source": [
    "len(tabela)"
   ]
  },
  {
   "cell_type": "code",
   "execution_count": 14,
   "id": "0734d7ff",
   "metadata": {},
   "outputs": [
    {
     "data": {
      "text/plain": [
       "['Arroz', 'Batata', 'Carne']"
      ]
     },
     "execution_count": 14,
     "metadata": {},
     "output_type": "execute_result"
    }
   ],
   "source": [
    "list(tabela)"
   ]
  },
  {
   "cell_type": "code",
   "execution_count": null,
   "id": "a8f45966",
   "metadata": {},
   "outputs": [],
   "source": []
  }
 ],
 "metadata": {
  "kernelspec": {
   "display_name": "Python 3 (ipykernel)",
   "language": "python",
   "name": "python3"
  },
  "language_info": {
   "codemirror_mode": {
    "name": "ipython",
    "version": 3
   },
   "file_extension": ".py",
   "mimetype": "text/x-python",
   "name": "python",
   "nbconvert_exporter": "python",
   "pygments_lexer": "ipython3",
   "version": "3.10.9"
  }
 },
 "nbformat": 4,
 "nbformat_minor": 5
}
